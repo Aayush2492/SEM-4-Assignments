{
  "cells": [
    {
      "cell_type": "markdown",
      "metadata": {},
      "source": [
        "### Assignment 1 - By Aayush Patel(CS20BTECH11001)"
      ]
    },
    {
      "cell_type": "code",
      "execution_count": 1,
      "metadata": {
        "id": "LuasFQk0ZdIA"
      },
      "outputs": [],
      "source": [
        "import numpy as np\n",
        "import cvxpy as cp"
      ]
    },
    {
      "cell_type": "code",
      "execution_count": 2,
      "metadata": {
        "id": "bHNzWbAhZnUX"
      },
      "outputs": [],
      "source": [
        "# cost = np.array([[0.18, 0.23, 0.05]])       # 2 dimensional\n",
        "cost = np.array([0.18, 0.23, 0.05])           # 1 dimensional\n",
        "# calories = np.array([72, 121, 65], ndmin=2) # 2 dimensional\n",
        "calories = np.array([72, 121, 65], ndmin=1)   # 1 dimensional\n",
        "vitamins = np.array([107, 500, 0])            # 1 dimensional\n",
        "# print(cost.shape)\n",
        "# print(calories.shape)\n",
        "# print(vitamins.shape)\n",
        "# print(type(cost))\n",
        "# print(type(calories))\n",
        "# print(type(vitamins))"
      ]
    },
    {
      "cell_type": "markdown",
      "metadata": {
        "id": "kNHc9MtIfyxi"
      },
      "source": [
        "### Defining the variable"
      ]
    },
    {
      "cell_type": "code",
      "execution_count": 3,
      "metadata": {
        "id": "7-Rce4vocLf-"
      },
      "outputs": [],
      "source": [
        "servings = cp.Variable((3,), integer = True)  # s is 1 dimensional arrays representing servings\n",
        "# servings = cp.Variable(3, integer = True)   # THIS ALSO WORKS\n",
        "# print(servings.shape)"
      ]
    },
    {
      "cell_type": "markdown",
      "metadata": {
        "id": "JFytiv2bf7UE"
      },
      "source": [
        "### Defining the objective"
      ]
    },
    {
      "cell_type": "code",
      "execution_count": 4,
      "metadata": {
        "id": "oTV42Wvod-4J"
      },
      "outputs": [],
      "source": [
        "objective = cp.Minimize(cp.matmul(cost, servings)) # matmul on 1-d numpy arrays gives dot product of those vectors"
      ]
    },
    {
      "cell_type": "markdown",
      "metadata": {
        "id": "KZpan8ozf21h"
      },
      "source": [
        "### Defining the constraints"
      ]
    },
    {
      "cell_type": "code",
      "execution_count": 5,
      "metadata": {
        "id": "5X9T-oi_dP83"
      },
      "outputs": [],
      "source": [
        "# total_calories = np.dot(servings, calories)\n",
        "# total_vitamins = np.dot(servings, vitamins)\n",
        "# constraints = [total_calories >= 2000, total_calories <= 2500, total_vitamins >= 5000, total_vitamins <= 50000, servings >= 0, servings <= 10]\n",
        "constraints = [cp.matmul(servings, calories) >= 2000, cp.matmul(servings, calories) <= 2500, cp.matmul(servings, vitamins) >= 5000, cp.matmul(servings, vitamins) <= 50000, servings >= 0, servings <= 10]"
      ]
    },
    {
      "cell_type": "code",
      "execution_count": 7,
      "metadata": {
        "colab": {
          "base_uri": "https://localhost:8080/"
        },
        "id": "iq0RoUVibEwZ",
        "outputId": "350dc086-b262-4e79-9332-69168781f9a9"
      },
      "outputs": [
        {
          "ename": "SolverError",
          "evalue": "\n\n                    You need a mixed-integer solver for this model. Refer to the documentation\n                        https://www.cvxpy.org/tutorial/advanced/index.html#mixed-integer-programs\n                    for discussion on this topic.\n\n                    Quick fix 1: if you install the python package CVXOPT (pip install cvxopt),\n                    then CVXPY can use the open-source mixed-integer solver `GLPK`.\n\n                    Quick fix 2: you can explicitly specify solver='ECOS_BB'. This may result\n                    in incorrect solutions and is not recommended.\n                ",
          "output_type": "error",
          "traceback": [
            "\u001b[0;31m---------------------------------------------------------------------------\u001b[0m",
            "\u001b[0;31mSolverError\u001b[0m                               Traceback (most recent call last)",
            "Input \u001b[0;32mIn [7]\u001b[0m, in \u001b[0;36m<module>\u001b[0;34m\u001b[0m\n\u001b[1;32m      1\u001b[0m prob \u001b[38;5;241m=\u001b[39m cp\u001b[38;5;241m.\u001b[39mProblem(objective, constraints)\n\u001b[0;32m----> 2\u001b[0m \u001b[43mprob\u001b[49m\u001b[38;5;241;43m.\u001b[39;49m\u001b[43msolve\u001b[49m\u001b[43m(\u001b[49m\u001b[43m)\u001b[49m\n",
            "File \u001b[0;32m~/Desktop/AAYUSH/COLLEGE/SEMESTERS/SEMESTER 4/SEM 4 Assignments/EE5606/Tutorials/virtualenvEE5606/lib/python3.9/site-packages/cvxpy/problems/problem.py:473\u001b[0m, in \u001b[0;36mProblem.solve\u001b[0;34m(self, *args, **kwargs)\u001b[0m\n\u001b[1;32m    471\u001b[0m \u001b[38;5;28;01melse\u001b[39;00m:\n\u001b[1;32m    472\u001b[0m     solve_func \u001b[38;5;241m=\u001b[39m Problem\u001b[38;5;241m.\u001b[39m_solve\n\u001b[0;32m--> 473\u001b[0m \u001b[38;5;28;01mreturn\u001b[39;00m \u001b[43msolve_func\u001b[49m\u001b[43m(\u001b[49m\u001b[38;5;28;43mself\u001b[39;49m\u001b[43m,\u001b[49m\u001b[43m \u001b[49m\u001b[38;5;241;43m*\u001b[39;49m\u001b[43margs\u001b[49m\u001b[43m,\u001b[49m\u001b[43m \u001b[49m\u001b[38;5;241;43m*\u001b[39;49m\u001b[38;5;241;43m*\u001b[39;49m\u001b[43mkwargs\u001b[49m\u001b[43m)\u001b[49m\n",
            "File \u001b[0;32m~/Desktop/AAYUSH/COLLEGE/SEMESTERS/SEMESTER 4/SEM 4 Assignments/EE5606/Tutorials/virtualenvEE5606/lib/python3.9/site-packages/cvxpy/problems/problem.py:966\u001b[0m, in \u001b[0;36mProblem._solve\u001b[0;34m(self, solver, warm_start, verbose, gp, qcp, requires_grad, enforce_dpp, **kwargs)\u001b[0m\n\u001b[1;32m    963\u001b[0m         \u001b[38;5;28mself\u001b[39m\u001b[38;5;241m.\u001b[39munpack(chain\u001b[38;5;241m.\u001b[39mretrieve(soln))\n\u001b[1;32m    964\u001b[0m         \u001b[38;5;28;01mreturn\u001b[39;00m \u001b[38;5;28mself\u001b[39m\u001b[38;5;241m.\u001b[39mvalue\n\u001b[0;32m--> 966\u001b[0m data, solving_chain, inverse_data \u001b[38;5;241m=\u001b[39m \u001b[38;5;28;43mself\u001b[39;49m\u001b[38;5;241;43m.\u001b[39;49m\u001b[43mget_problem_data\u001b[49m\u001b[43m(\u001b[49m\n\u001b[1;32m    967\u001b[0m \u001b[43m    \u001b[49m\u001b[43msolver\u001b[49m\u001b[43m,\u001b[49m\u001b[43m \u001b[49m\u001b[43mgp\u001b[49m\u001b[43m,\u001b[49m\u001b[43m \u001b[49m\u001b[43menforce_dpp\u001b[49m\u001b[43m,\u001b[49m\u001b[43m \u001b[49m\u001b[43mverbose\u001b[49m\u001b[43m)\u001b[49m\n\u001b[1;32m    969\u001b[0m \u001b[38;5;28;01mif\u001b[39;00m verbose:\n\u001b[1;32m    970\u001b[0m     \u001b[38;5;28mprint\u001b[39m(_NUM_SOLVER_STR)\n",
            "File \u001b[0;32m~/Desktop/AAYUSH/COLLEGE/SEMESTERS/SEMESTER 4/SEM 4 Assignments/EE5606/Tutorials/virtualenvEE5606/lib/python3.9/site-packages/cvxpy/problems/problem.py:581\u001b[0m, in \u001b[0;36mProblem.get_problem_data\u001b[0;34m(self, solver, gp, enforce_dpp, verbose)\u001b[0m\n\u001b[1;32m    579\u001b[0m \u001b[38;5;28;01mif\u001b[39;00m key \u001b[38;5;241m!=\u001b[39m \u001b[38;5;28mself\u001b[39m\u001b[38;5;241m.\u001b[39m_cache\u001b[38;5;241m.\u001b[39mkey:\n\u001b[1;32m    580\u001b[0m     \u001b[38;5;28mself\u001b[39m\u001b[38;5;241m.\u001b[39m_cache\u001b[38;5;241m.\u001b[39minvalidate()\n\u001b[0;32m--> 581\u001b[0m     solving_chain \u001b[38;5;241m=\u001b[39m \u001b[38;5;28;43mself\u001b[39;49m\u001b[38;5;241;43m.\u001b[39;49m\u001b[43m_construct_chain\u001b[49m\u001b[43m(\u001b[49m\n\u001b[1;32m    582\u001b[0m \u001b[43m        \u001b[49m\u001b[43msolver\u001b[49m\u001b[38;5;241;43m=\u001b[39;49m\u001b[43msolver\u001b[49m\u001b[43m,\u001b[49m\u001b[43m \u001b[49m\u001b[43mgp\u001b[49m\u001b[38;5;241;43m=\u001b[39;49m\u001b[43mgp\u001b[49m\u001b[43m,\u001b[49m\u001b[43m \u001b[49m\u001b[43menforce_dpp\u001b[49m\u001b[38;5;241;43m=\u001b[39;49m\u001b[43menforce_dpp\u001b[49m\u001b[43m)\u001b[49m\n\u001b[1;32m    583\u001b[0m     \u001b[38;5;28mself\u001b[39m\u001b[38;5;241m.\u001b[39m_cache\u001b[38;5;241m.\u001b[39mkey \u001b[38;5;241m=\u001b[39m key\n\u001b[1;32m    584\u001b[0m     \u001b[38;5;28mself\u001b[39m\u001b[38;5;241m.\u001b[39m_cache\u001b[38;5;241m.\u001b[39msolving_chain \u001b[38;5;241m=\u001b[39m solving_chain\n",
            "File \u001b[0;32m~/Desktop/AAYUSH/COLLEGE/SEMESTERS/SEMESTER 4/SEM 4 Assignments/EE5606/Tutorials/virtualenvEE5606/lib/python3.9/site-packages/cvxpy/problems/problem.py:807\u001b[0m, in \u001b[0;36mProblem._construct_chain\u001b[0;34m(self, solver, gp, enforce_dpp)\u001b[0m\n\u001b[1;32m    781\u001b[0m \u001b[38;5;28;01mdef\u001b[39;00m \u001b[38;5;21m_construct_chain\u001b[39m(\n\u001b[1;32m    782\u001b[0m     \u001b[38;5;28mself\u001b[39m, solver: Optional[\u001b[38;5;28mstr\u001b[39m] \u001b[38;5;241m=\u001b[39m \u001b[38;5;28;01mNone\u001b[39;00m, gp: \u001b[38;5;28mbool\u001b[39m \u001b[38;5;241m=\u001b[39m \u001b[38;5;28;01mFalse\u001b[39;00m, enforce_dpp: \u001b[38;5;28mbool\u001b[39m \u001b[38;5;241m=\u001b[39m \u001b[38;5;28;01mFalse\u001b[39;00m\n\u001b[1;32m    783\u001b[0m ) \u001b[38;5;241m-\u001b[39m\u001b[38;5;241m>\u001b[39m SolvingChain:\n\u001b[1;32m    784\u001b[0m     \u001b[38;5;124;03m\"\"\"\u001b[39;00m\n\u001b[1;32m    785\u001b[0m \u001b[38;5;124;03m    Construct the chains required to reformulate and solve the problem.\u001b[39;00m\n\u001b[1;32m    786\u001b[0m \n\u001b[0;32m   (...)\u001b[0m\n\u001b[1;32m    805\u001b[0m \u001b[38;5;124;03m    A solving chain\u001b[39;00m\n\u001b[1;32m    806\u001b[0m \u001b[38;5;124;03m    \"\"\"\u001b[39;00m\n\u001b[0;32m--> 807\u001b[0m     candidate_solvers \u001b[38;5;241m=\u001b[39m \u001b[38;5;28;43mself\u001b[39;49m\u001b[38;5;241;43m.\u001b[39;49m\u001b[43m_find_candidate_solvers\u001b[49m\u001b[43m(\u001b[49m\u001b[43msolver\u001b[49m\u001b[38;5;241;43m=\u001b[39;49m\u001b[43msolver\u001b[49m\u001b[43m,\u001b[49m\u001b[43m \u001b[49m\u001b[43mgp\u001b[49m\u001b[38;5;241;43m=\u001b[39;49m\u001b[43mgp\u001b[49m\u001b[43m)\u001b[49m\n\u001b[1;32m    808\u001b[0m     \u001b[38;5;28mself\u001b[39m\u001b[38;5;241m.\u001b[39m_sort_candidate_solvers(candidate_solvers)\n\u001b[1;32m    809\u001b[0m     \u001b[38;5;28;01mreturn\u001b[39;00m construct_solving_chain(\u001b[38;5;28mself\u001b[39m, candidate_solvers, gp\u001b[38;5;241m=\u001b[39mgp,\n\u001b[1;32m    810\u001b[0m                                    enforce_dpp\u001b[38;5;241m=\u001b[39menforce_dpp)\n",
            "File \u001b[0;32m~/Desktop/AAYUSH/COLLEGE/SEMESTERS/SEMESTER 4/SEM 4 Assignments/EE5606/Tutorials/virtualenvEE5606/lib/python3.9/site-packages/cvxpy/problems/problem.py:730\u001b[0m, in \u001b[0;36mProblem._find_candidate_solvers\u001b[0;34m(self, solver, gp)\u001b[0m\n\u001b[1;32m    717\u001b[0m \u001b[38;5;28;01mif\u001b[39;00m slv_def\u001b[38;5;241m.\u001b[39mINSTALLED_MI_SOLVERS \u001b[38;5;241m==\u001b[39m [s\u001b[38;5;241m.\u001b[39mECOS_BB] \u001b[38;5;129;01mand\u001b[39;00m solver \u001b[38;5;241m!=\u001b[39m s\u001b[38;5;241m.\u001b[39mECOS_BB:\n\u001b[1;32m    718\u001b[0m     msg \u001b[38;5;241m=\u001b[39m \u001b[38;5;124m\"\"\"\u001b[39m\n\u001b[1;32m    719\u001b[0m \n\u001b[1;32m    720\u001b[0m \u001b[38;5;124m        You need a mixed-integer solver for this model. Refer to the documentation\u001b[39m\n\u001b[0;32m   (...)\u001b[0m\n\u001b[1;32m    728\u001b[0m \u001b[38;5;124m        in incorrect solutions and is not recommended.\u001b[39m\n\u001b[1;32m    729\u001b[0m \u001b[38;5;124m    \u001b[39m\u001b[38;5;124m\"\"\"\u001b[39m\n\u001b[0;32m--> 730\u001b[0m     \u001b[38;5;28;01mraise\u001b[39;00m error\u001b[38;5;241m.\u001b[39mSolverError(msg)\n\u001b[1;32m    731\u001b[0m candidates[\u001b[38;5;124m'\u001b[39m\u001b[38;5;124mqp_solvers\u001b[39m\u001b[38;5;124m'\u001b[39m] \u001b[38;5;241m=\u001b[39m [\n\u001b[1;32m    732\u001b[0m     s \u001b[38;5;28;01mfor\u001b[39;00m s \u001b[38;5;129;01min\u001b[39;00m candidates[\u001b[38;5;124m'\u001b[39m\u001b[38;5;124mqp_solvers\u001b[39m\u001b[38;5;124m'\u001b[39m]\n\u001b[1;32m    733\u001b[0m     \u001b[38;5;28;01mif\u001b[39;00m slv_def\u001b[38;5;241m.\u001b[39mSOLVER_MAP_QP[s]\u001b[38;5;241m.\u001b[39mMIP_CAPABLE]\n\u001b[1;32m    734\u001b[0m candidates[\u001b[38;5;124m'\u001b[39m\u001b[38;5;124mconic_solvers\u001b[39m\u001b[38;5;124m'\u001b[39m] \u001b[38;5;241m=\u001b[39m [\n\u001b[1;32m    735\u001b[0m     s \u001b[38;5;28;01mfor\u001b[39;00m s \u001b[38;5;129;01min\u001b[39;00m candidates[\u001b[38;5;124m'\u001b[39m\u001b[38;5;124mconic_solvers\u001b[39m\u001b[38;5;124m'\u001b[39m]\n\u001b[1;32m    736\u001b[0m     \u001b[38;5;28;01mif\u001b[39;00m slv_def\u001b[38;5;241m.\u001b[39mSOLVER_MAP_CONIC[s]\u001b[38;5;241m.\u001b[39mMIP_CAPABLE]\n",
            "\u001b[0;31mSolverError\u001b[0m: \n\n                    You need a mixed-integer solver for this model. Refer to the documentation\n                        https://www.cvxpy.org/tutorial/advanced/index.html#mixed-integer-programs\n                    for discussion on this topic.\n\n                    Quick fix 1: if you install the python package CVXOPT (pip install cvxopt),\n                    then CVXPY can use the open-source mixed-integer solver `GLPK`.\n\n                    Quick fix 2: you can explicitly specify solver='ECOS_BB'. This may result\n                    in incorrect solutions and is not recommended.\n                "
          ]
        }
      ],
      "source": [
        "prob = cp.Problem(objective, constraints)\n",
        "prob.solve()"
      ]
    },
    {
      "cell_type": "code",
      "execution_count": null,
      "metadata": {
        "colab": {
          "base_uri": "https://localhost:8080/"
        },
        "id": "cm84HfPxi2z0",
        "outputId": "64068a9e-cf7c-4d04-8902-5c7f97ec786a"
      },
      "outputs": [
        {
          "name": "stdout",
          "output_type": "stream",
          "text": [
            "Optimal servings:  [ 2. 10. 10.]\n",
            "Optimal cost:  3.16\n"
          ]
        }
      ],
      "source": [
        "print(\"Optimal servings: \", servings.value)\n",
        "print(\"Optimal cost: \", np.dot(servings.value, cost))"
      ]
    },
    {
      "cell_type": "code",
      "execution_count": null,
      "metadata": {
        "id": "wNTahcr-i-2C"
      },
      "outputs": [],
      "source": []
    }
  ],
  "metadata": {
    "colab": {
      "collapsed_sections": [],
      "name": "Tutorial 1.ipynb",
      "provenance": []
    },
    "kernelspec": {
      "display_name": "Python 3",
      "name": "python3"
    },
    "language_info": {
      "codemirror_mode": {
        "name": "ipython",
        "version": 3
      },
      "file_extension": ".py",
      "mimetype": "text/x-python",
      "name": "python",
      "nbconvert_exporter": "python",
      "pygments_lexer": "ipython3",
      "version": "3.9.9"
    }
  },
  "nbformat": 4,
  "nbformat_minor": 0
}
