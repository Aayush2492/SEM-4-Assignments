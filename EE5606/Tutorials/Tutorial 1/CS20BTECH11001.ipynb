{
  "cells": [
    {
      "cell_type": "markdown",
      "metadata": {},
      "source": [
        "### Assignment 1 - By Aayush Patel(CS20BTECH11001)"
      ]
    },
    {
      "cell_type": "code",
      "execution_count": null,
      "metadata": {
        "id": "LuasFQk0ZdIA"
      },
      "outputs": [
        {
          "ename": "",
          "evalue": "",
          "output_type": "error",
          "traceback": [
            "\u001b[1;31mJupyter cannot be started. Error attempting to locate jupyter: Running cells with 'Python 3.9.9 64-bit ('Tutorial_1-P9y5D3iv': venv)' requires notebook and jupyter package.\n",
            "Run the following command to install 'jupyter and notebook' into the Python environment. \n",
            "Command: '/Users/aayush/.local/share/virtualenvs/Tutorial_1-P9y5D3iv/bin/python -m pip install jupyter notebook -U'"
          ]
        }
      ],
      "source": [
        "import numpy as np\n",
        "import matplotlib.pyplot as plt\n",
        "import cvxpy as cp"
      ]
    },
    {
      "cell_type": "code",
      "execution_count": 2,
      "metadata": {
        "id": "bHNzWbAhZnUX"
      },
      "outputs": [],
      "source": [
        "# cost = np.array([[0.18, 0.23, 0.05]])       # 2 dimensional\n",
        "cost = np.array([0.18, 0.23, 0.05])           # 1 dimensional\n",
        "# calories = np.array([72, 121, 65], ndmin=2) # 2 dimensional\n",
        "calories = np.array([72, 121, 65], ndmin=1)   # 1 dimensional\n",
        "vitamins = np.array([107, 500, 0])            # 1 dimensional\n",
        "# print(cost.shape)\n",
        "# print(calories.shape)\n",
        "# print(vitamins.shape)\n",
        "# print(type(cost))\n",
        "# print(type(calories))\n",
        "# print(type(vitamins))"
      ]
    },
    {
      "cell_type": "markdown",
      "metadata": {
        "id": "kNHc9MtIfyxi"
      },
      "source": [
        "### Defining the variable"
      ]
    },
    {
      "cell_type": "code",
      "execution_count": 8,
      "metadata": {
        "id": "7-Rce4vocLf-"
      },
      "outputs": [],
      "source": [
        "servings = cp.Variable((3,), integer = True)  # s is 1 dimensional arrays representing servings\n",
        "# servings = cp.Variable(3, integer = True)   # THIS ALSO WORKS\n",
        "# print(servings.shape)"
      ]
    },
    {
      "cell_type": "markdown",
      "metadata": {
        "id": "JFytiv2bf7UE"
      },
      "source": [
        "### Defining the objective"
      ]
    },
    {
      "cell_type": "code",
      "execution_count": 4,
      "metadata": {
        "id": "oTV42Wvod-4J"
      },
      "outputs": [],
      "source": [
        "objective = cp.Minimize(cp.matmul(cost, servings)) # matmul on 1-d numpy arrays gives dot product of those vectors"
      ]
    },
    {
      "cell_type": "markdown",
      "metadata": {
        "id": "KZpan8ozf21h"
      },
      "source": [
        "### Defining the constraints"
      ]
    },
    {
      "cell_type": "code",
      "execution_count": 5,
      "metadata": {
        "id": "5X9T-oi_dP83"
      },
      "outputs": [],
      "source": [
        "# total_calories = np.dot(servings, calories)\n",
        "# total_vitamins = np.dot(servings, vitamins)\n",
        "# constraints = [total_calories >= 2000, total_calories <= 2500, total_vitamins >= 5000, total_vitamins <= 50000, servings >= 0, servings <= 10]\n",
        "constraints = [cp.matmul(servings, calories) >= 2000, cp.matmul(servings, calories) <= 2500, cp.matmul(servings, vitamins) >= 5000, cp.matmul(servings, vitamins) <= 50000, servings >= 0, servings <= 10]"
      ]
    },
    {
      "cell_type": "code",
      "execution_count": 6,
      "metadata": {
        "colab": {
          "base_uri": "https://localhost:8080/"
        },
        "id": "iq0RoUVibEwZ",
        "outputId": "350dc086-b262-4e79-9332-69168781f9a9"
      },
      "outputs": [
        {
          "data": {
            "text/plain": [
              "3.16"
            ]
          },
          "execution_count": 6,
          "metadata": {},
          "output_type": "execute_result"
        }
      ],
      "source": [
        "prob = cp.Problem(objective, constraints)\n",
        "prob.solve()"
      ]
    },
    {
      "cell_type": "code",
      "execution_count": 7,
      "metadata": {
        "colab": {
          "base_uri": "https://localhost:8080/"
        },
        "id": "cm84HfPxi2z0",
        "outputId": "64068a9e-cf7c-4d04-8902-5c7f97ec786a"
      },
      "outputs": [
        {
          "name": "stdout",
          "output_type": "stream",
          "text": [
            "Optimal servings:  [ 2. 10. 10.]\n",
            "Optimal cost:  3.16\n"
          ]
        }
      ],
      "source": [
        "print(\"Optimal servings: \", servings.value)\n",
        "print(\"Optimal cost: \", np.dot(servings.value, cost))"
      ]
    },
    {
      "cell_type": "code",
      "execution_count": 7,
      "metadata": {
        "id": "wNTahcr-i-2C"
      },
      "outputs": [],
      "source": []
    }
  ],
  "metadata": {
    "colab": {
      "collapsed_sections": [],
      "name": "Tutorial 1.ipynb",
      "provenance": []
    },
    "kernelspec": {
      "display_name": "Python 3",
      "name": "python3"
    },
    "language_info": {
      "name": "python",
      "version": "3.9.9"
    }
  },
  "nbformat": 4,
  "nbformat_minor": 0
}
