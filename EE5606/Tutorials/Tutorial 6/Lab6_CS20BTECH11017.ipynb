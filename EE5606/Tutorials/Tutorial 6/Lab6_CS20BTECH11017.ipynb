{
 "cells": [
  {
   "cell_type": "code",
   "execution_count": 1,
   "id": "8f0a0a02",
   "metadata": {},
   "outputs": [],
   "source": [
    "import numpy as np\n",
    "import cvxpy as cp"
   ]
  },
  {
   "cell_type": "code",
   "execution_count": 2,
   "id": "11ea92ed",
   "metadata": {},
   "outputs": [],
   "source": [
    "items = ['iPod, iPhone', 'iPad']\n",
    "speed = np.array([6000, 5000, 3000])\n",
    "space = np.array([40/1000, 45/1000, 210/1000])\n",
    "min_requirement = np.array([5000, 0, 4000])\n",
    "max_production = np.array([10000, 15000, 8000])\n",
    "profits = np.array([4, 6, 10])\n",
    "\n",
    "max_storage = 6000"
   ]
  },
  {
   "cell_type": "code",
   "execution_count": 3,
   "id": "0809d0c6",
   "metadata": {},
   "outputs": [],
   "source": [
    "x = cp.Variable(3)\n",
    "weekly_production = 5*cp.multiply(speed, x)\n",
    "weekly_profit = cp.sum(cp.multiply(weekly_production, profits))"
   ]
  },
  {
   "cell_type": "code",
   "execution_count": 4,
   "id": "8d54dec5",
   "metadata": {},
   "outputs": [],
   "source": [
    "objective = cp.Maximize(weekly_profit)"
   ]
  },
  {
   "cell_type": "code",
   "execution_count": 5,
   "id": "056c55de",
   "metadata": {},
   "outputs": [],
   "source": [
    "constraints = [\n",
    "    cp.sum(x) == 1,\n",
    "    x >= 0,\n",
    "    weekly_production >= min_requirement,\n",
    "    weekly_production <= max_production,\n",
    "    cp.matmul(space, weekly_production) <= max_storage\n",
    "]"
   ]
  },
  {
   "cell_type": "code",
   "execution_count": 6,
   "id": "04d2c80f",
   "metadata": {},
   "outputs": [
    {
     "name": "stdout",
     "output_type": "stream",
     "text": [
      "[0.16666667 0.30722312 0.52611022]\n"
     ]
    }
   ],
   "source": [
    "problem = cp.Problem(objective, constraints)\n",
    "problem.solve()\n",
    "\n",
    "print(x.value)"
   ]
  },
  {
   "cell_type": "code",
   "execution_count": 7,
   "id": "b067c180",
   "metadata": {},
   "outputs": [
    {
     "data": {
      "text/plain": [
       "2202.8731916235242"
      ]
     },
     "execution_count": 7,
     "metadata": {},
     "output_type": "execute_result"
    }
   ],
   "source": [
    "cp.matmul(space, weekly_production).value"
   ]
  },
  {
   "cell_type": "code",
   "execution_count": 8,
   "id": "578d4bf9",
   "metadata": {},
   "outputs": [
    {
     "data": {
      "text/plain": [
       "array([4999.99999917, 7680.57788187, 7891.6532713 ])"
      ]
     },
     "execution_count": 8,
     "metadata": {},
     "output_type": "execute_result"
    }
   ],
   "source": [
    "weekly_production.value"
   ]
  },
  {
   "cell_type": "code",
   "execution_count": 9,
   "id": "9ca0858e",
   "metadata": {},
   "outputs": [
    {
     "data": {
      "text/plain": [
       "145000.00000088933"
      ]
     },
     "execution_count": 9,
     "metadata": {},
     "output_type": "execute_result"
    }
   ],
   "source": [
    "weekly_profit.value"
   ]
  },
  {
   "cell_type": "code",
   "execution_count": null,
   "id": "d328babb",
   "metadata": {},
   "outputs": [],
   "source": []
  }
 ],
 "metadata": {
  "kernelspec": {
   "display_name": "Python 3",
   "language": "python",
   "name": "python3"
  },
  "language_info": {
   "codemirror_mode": {
    "name": "ipython",
    "version": 3
   },
   "file_extension": ".py",
   "mimetype": "text/x-python",
   "name": "python",
   "nbconvert_exporter": "python",
   "pygments_lexer": "ipython3",
   "version": "3.9.10"
  }
 },
 "nbformat": 4,
 "nbformat_minor": 5
}
