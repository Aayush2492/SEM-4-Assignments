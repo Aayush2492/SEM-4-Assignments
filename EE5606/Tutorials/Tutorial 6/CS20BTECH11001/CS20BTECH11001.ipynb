{
 "cells": [
  {
   "cell_type": "code",
   "execution_count": 1,
   "metadata": {},
   "outputs": [],
   "source": [
    "# Author: Aayush Patel - CS20BTECH11001"
   ]
  },
  {
   "cell_type": "code",
   "execution_count": 2,
   "metadata": {},
   "outputs": [],
   "source": [
    "import numpy as np\n",
    "import cvxpy as cp"
   ]
  },
  {
   "cell_type": "code",
   "execution_count": 3,
   "metadata": {},
   "outputs": [],
   "source": [
    "area = np.array([40, 45, 210])/1e3\n",
    "profits = np.array([4, 6, 10])\n",
    "min_req = np.array([5e3, 0, 4e3])\n",
    "max_demand = np.array([1e4, 15e3, 8e3])\n",
    "daily_limit = np.array([6e3, 5e3, 3e3])"
   ]
  },
  {
   "cell_type": "code",
   "execution_count": 4,
   "metadata": {},
   "outputs": [],
   "source": [
    "x = cp.Variable(shape=(3))\n",
    "x_weekly_sold = cp.multiply(x,daily_limit)*5\n",
    "constraints = [x_weekly_sold <= max_demand, x_weekly_sold >= min_req, x_weekly_sold@area <= 6e3, cp.sum(x)==1, x>=0 ]\n",
    "objective = cp.Maximize(x_weekly_sold@profits)\n",
    "max_profits_1 = cp.Problem(objective, constraints).solve()"
   ]
  },
  {
   "cell_type": "code",
   "execution_count": 5,
   "metadata": {},
   "outputs": [
    {
     "name": "stdout",
     "output_type": "stream",
     "text": [
      "Proportion hours devoted each day:  [ 0.167  0.307  0.526]\n"
     ]
    }
   ],
   "source": [
    "np.set_printoptions(formatter={'float': '{: 0.3f}'.format})\n",
    "print(\"Proportion hours devoted each day: \", x.value)"
   ]
  },
  {
   "cell_type": "code",
   "execution_count": 13,
   "metadata": {},
   "outputs": [],
   "source": [
    "y = cp.Variable(shape=(3))\n",
    "constraints = [y <= max_demand, y >= min_req, y@area <= 6e3, y/5 <= daily_limit, cp.sum((y/5)/daily_limit) == 1]\n",
    "objective = cp.Maximize(y@profits)\n",
    "max_profits_2 = cp.Problem(objective, constraints).solve()"
   ]
  },
  {
   "cell_type": "code",
   "execution_count": 17,
   "metadata": {},
   "outputs": [
    {
     "name": "stdout",
     "output_type": "stream",
     "text": [
      "Units sold each week:  [ 5000.000  10351.000  6290.000]\n"
     ]
    }
   ],
   "source": [
    "print(\"Units sold each week: \", np.rint(y.value))"
   ]
  },
  {
   "cell_type": "code",
   "execution_count": 8,
   "metadata": {},
   "outputs": [],
   "source": [
    "z = cp.Variable(shape=(3))\n",
    "z_weekly_sold = cp.multiply(z/40,daily_limit)*5\n",
    "constraints = [z_weekly_sold <= max_demand, z_weekly_sold >= min_req, z_weekly_sold@area <= 6e3, z>=0, cp.sum(z)<=40 ]\n",
    "objective = cp.Maximize(z_weekly_sold@profits)\n",
    "max_profits_3 = cp.Problem(objective, constraints).solve()"
   ]
  },
  {
   "cell_type": "code",
   "execution_count": 18,
   "metadata": {},
   "outputs": [
    {
     "name": "stdout",
     "output_type": "stream",
     "text": [
      "Hours devoted each week:  [ 0.167  0.333  0.501]\n"
     ]
    }
   ],
   "source": [
    "print(\"Hours devoted each week: \", z.value)"
   ]
  },
  {
   "cell_type": "code",
   "execution_count": 10,
   "metadata": {},
   "outputs": [
    {
     "name": "stdout",
     "output_type": "stream",
     "text": [
      "145000.0000008893\n",
      "144999.9999943803\n",
      "144999.9999934565\n"
     ]
    }
   ],
   "source": [
    "# Below three should be equal\n",
    "print(max_profits_1)\n",
    "print(max_profits_2)\n",
    "print(max_profits_3)"
   ]
  },
  {
   "cell_type": "code",
   "execution_count": null,
   "metadata": {},
   "outputs": [],
   "source": []
  }
 ],
 "metadata": {
  "interpreter": {
   "hash": "164b87f0bfd5e380b5713f681f10741b8e0289dbe2b9c7712c097395aedd360a"
  },
  "kernelspec": {
   "display_name": "Python 3.9.10 ('virtualenvEE5606': venv)",
   "language": "python",
   "name": "python3"
  },
  "language_info": {
   "codemirror_mode": {
    "name": "ipython",
    "version": 3
   },
   "file_extension": ".py",
   "mimetype": "text/x-python",
   "name": "python",
   "nbconvert_exporter": "python",
   "pygments_lexer": "ipython3",
   "version": "3.9.10"
  },
  "orig_nbformat": 4
 },
 "nbformat": 4,
 "nbformat_minor": 2
}
