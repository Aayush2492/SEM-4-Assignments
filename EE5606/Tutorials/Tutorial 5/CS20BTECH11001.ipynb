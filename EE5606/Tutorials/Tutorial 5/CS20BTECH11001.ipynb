{
 "cells": [
  {
   "cell_type": "code",
   "execution_count": 1,
   "metadata": {},
   "outputs": [],
   "source": [
    "# Author: Aayush Patel - CS20BTECH11001"
   ]
  },
  {
   "cell_type": "code",
   "execution_count": 2,
   "metadata": {},
   "outputs": [],
   "source": [
    "import numpy as np\n",
    "import cvxpy as cp\n",
    "import pandas as pd"
   ]
  },
  {
   "cell_type": "code",
   "execution_count": 3,
   "metadata": {},
   "outputs": [],
   "source": [
    "demand = np.array([45, 20, 30, 30, 10])\n",
    "supply = np.array([40, 50, 45])\n",
    "n = supply.shape[0]\n",
    "m = demand.shape[0]\n",
    "cost = np.array([[8, 6, 10, 9, 8], [9, 12, 13, 7, 5,], [14, 9, 16, 5, 2]])"
   ]
  },
  {
   "cell_type": "code",
   "execution_count": 4,
   "metadata": {},
   "outputs": [],
   "source": [
    "strategy = cp.Variable(shape=(n,m))\n",
    "# sum return a dim np array here and demand and suppy are 1 dim\n",
    "constraints = [cp.sum(strategy, axis=0) >= demand , cp.sum(strategy, axis=1) <= supply, strategy >= 0]\n",
    "# suppy can be diminised at some remain in factories. Production >= market demand so demand satsfied\n",
    "objective = cp.Minimize(cp.sum(cp.multiply(strategy, cost)))\n",
    "optimal_cost = cp.Problem(objective, constraints).solve()"
   ]
  },
  {
   "cell_type": "code",
   "execution_count": 7,
   "metadata": {},
   "outputs": [
    {
     "name": "stdout",
     "output_type": "stream",
     "text": [
      "[[ 0.000  15.000  25.000  0.000  0.000]\n",
      " [ 45.000  0.000  5.000  0.000  0.000]\n",
      " [ 0.000  5.000  0.000  30.000  10.000]]\n",
      "1025.0000000955833\n"
     ]
    }
   ],
   "source": [
    "np.set_printoptions(formatter={'float': '{: 0.3f}'.format})\n",
    "print(strategy.value)\n",
    "print(optimal_cost)\n",
    "# print(np.array_str(strategy.value, precision=1, suppress_small=True))"
   ]
  },
  {
   "cell_type": "code",
   "execution_count": null,
   "metadata": {},
   "outputs": [],
   "source": []
  }
 ],
 "metadata": {
  "interpreter": {
   "hash": "164b87f0bfd5e380b5713f681f10741b8e0289dbe2b9c7712c097395aedd360a"
  },
  "kernelspec": {
   "display_name": "Python 3.9.10 ('virtualenvEE5606': venv)",
   "language": "python",
   "name": "python3"
  },
  "language_info": {
   "codemirror_mode": {
    "name": "ipython",
    "version": 3
   },
   "file_extension": ".py",
   "mimetype": "text/x-python",
   "name": "python",
   "nbconvert_exporter": "python",
   "pygments_lexer": "ipython3",
   "version": "3.9.10"
  },
  "orig_nbformat": 4
 },
 "nbformat": 4,
 "nbformat_minor": 2
}
